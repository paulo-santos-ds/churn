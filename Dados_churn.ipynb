{
 "cells": [
  {
   "cell_type": "markdown",
   "metadata": {},
   "source": [
    "# Descrição do Projeto"
   ]
  },
  {
   "cell_type": "markdown",
   "metadata": {},
   "source": [
    "Os clientes do Beta Bank estão saindo: pouco a pouco, escapulindo todo mês. Os banqueiros descobriram que é mais barato manter os clientes existentes do que atrair novos.\n",
    "\n",
    "Precisamos prever se um cliente vai deixar o banco em breve. Você tem os dados sobre o comportamento passado dos clientes e rescisões de contratos com o banco.\n",
    "\n",
    "Construa um modelo com o valor máximo possível de F1. Para passar na revisão, você precisa de um F1-score de pelo menos 0,59 para o conjunto de dados de teste. \n",
    "\n",
    "Além disso, meça a métrica AUC-ROC e compare-a com o F1-score."
   ]
  },
  {
   "cell_type": "markdown",
   "metadata": {},
   "source": [
    "# Dicionario do Projeto"
   ]
  },
  {
   "cell_type": "markdown",
   "metadata": {},
   "source": [
    "* RowNumber — índice das strings de dados\n",
    "\n",
    "* CustomerId — identificador exclusivo do cliente\n",
    "\n",
    "* Surname — sobrenome\n",
    "\n",
    "* CreditScore — pontuação de crédito\n",
    "\n",
    "* Geography — país de residência\n",
    "\n",
    "* Gender — gênero\n",
    "\n",
    "* Age — idade\n",
    "\n",
    "* Tenure — período de maturação para o depósito fixo de um cliente (anos)\n",
    "\n",
    "* Balance — saldo da conta\n",
    "\n",
    "* NumOfProducts — número de produtos bancários usados pelo cliente\n",
    "\n",
    "* HasCrCard — cliente possui cartão de crédito (1 - sim; 0 - não)\n",
    "\n",
    "* IsActiveMember — cliente ativo (1 - sim; 0 - não)\n",
    "\n",
    "* EstimatedSalary — salário estimado\n",
    "\n",
    "* Objetivo:    Exited — o cliente saiu (1 - sim; 0 - não)"
   ]
  },
  {
   "cell_type": "markdown",
   "metadata": {},
   "source": [
    "## Bibliotecas Utilizadas"
   ]
  },
  {
   "cell_type": "code",
   "execution_count": 1,
   "metadata": {},
   "outputs": [],
   "source": [
    "import pandas as pd\n",
    "from sklearn.model_selection import train_test_split\n",
    "from sklearn.preprocessing import OrdinalEncoder\n",
    "from sklearn.linear_model import LogisticRegression\n",
    "from sklearn.metrics import confusion_matrix\n",
    "from sklearn.metrics import recall_score\n",
    "from sklearn.metrics import precision_score\n",
    "from sklearn.metrics import f1_score\n",
    "from sklearn.preprocessing import StandardScaler \n",
    "from sklearn.utils import shuffle\n",
    "from sklearn.metrics import roc_auc_score \n",
    "import matplotlib.pyplot as plt\n",
    "import seaborn as sns\n",
    "from sklearn.metrics import roc_curve"
   ]
  },
  {
   "cell_type": "markdown",
   "metadata": {},
   "source": [
    "## Importando os dados"
   ]
  },
  {
   "cell_type": "code",
   "execution_count": 3,
   "metadata": {},
   "outputs": [
    {
     "data": {
      "text/html": [
       "<div>\n",
       "<style scoped>\n",
       "    .dataframe tbody tr th:only-of-type {\n",
       "        vertical-align: middle;\n",
       "    }\n",
       "\n",
       "    .dataframe tbody tr th {\n",
       "        vertical-align: top;\n",
       "    }\n",
       "\n",
       "    .dataframe thead th {\n",
       "        text-align: right;\n",
       "    }\n",
       "</style>\n",
       "<table border=\"1\" class=\"dataframe\">\n",
       "  <thead>\n",
       "    <tr style=\"text-align: right;\">\n",
       "      <th></th>\n",
       "      <th>RowNumber</th>\n",
       "      <th>CustomerId</th>\n",
       "      <th>Surname</th>\n",
       "      <th>CreditScore</th>\n",
       "      <th>Geography</th>\n",
       "      <th>Gender</th>\n",
       "      <th>Age</th>\n",
       "      <th>Tenure</th>\n",
       "      <th>Balance</th>\n",
       "      <th>NumOfProducts</th>\n",
       "      <th>HasCrCard</th>\n",
       "      <th>IsActiveMember</th>\n",
       "      <th>EstimatedSalary</th>\n",
       "      <th>Exited</th>\n",
       "    </tr>\n",
       "  </thead>\n",
       "  <tbody>\n",
       "    <tr>\n",
       "      <th>0</th>\n",
       "      <td>1</td>\n",
       "      <td>15634602</td>\n",
       "      <td>Hargrave</td>\n",
       "      <td>619</td>\n",
       "      <td>France</td>\n",
       "      <td>Female</td>\n",
       "      <td>42</td>\n",
       "      <td>2.0</td>\n",
       "      <td>0.00</td>\n",
       "      <td>1</td>\n",
       "      <td>1</td>\n",
       "      <td>1</td>\n",
       "      <td>101348.88</td>\n",
       "      <td>1</td>\n",
       "    </tr>\n",
       "    <tr>\n",
       "      <th>1</th>\n",
       "      <td>2</td>\n",
       "      <td>15647311</td>\n",
       "      <td>Hill</td>\n",
       "      <td>608</td>\n",
       "      <td>Spain</td>\n",
       "      <td>Female</td>\n",
       "      <td>41</td>\n",
       "      <td>1.0</td>\n",
       "      <td>83807.86</td>\n",
       "      <td>1</td>\n",
       "      <td>0</td>\n",
       "      <td>1</td>\n",
       "      <td>112542.58</td>\n",
       "      <td>0</td>\n",
       "    </tr>\n",
       "    <tr>\n",
       "      <th>2</th>\n",
       "      <td>3</td>\n",
       "      <td>15619304</td>\n",
       "      <td>Onio</td>\n",
       "      <td>502</td>\n",
       "      <td>France</td>\n",
       "      <td>Female</td>\n",
       "      <td>42</td>\n",
       "      <td>8.0</td>\n",
       "      <td>159660.80</td>\n",
       "      <td>3</td>\n",
       "      <td>1</td>\n",
       "      <td>0</td>\n",
       "      <td>113931.57</td>\n",
       "      <td>1</td>\n",
       "    </tr>\n",
       "    <tr>\n",
       "      <th>3</th>\n",
       "      <td>4</td>\n",
       "      <td>15701354</td>\n",
       "      <td>Boni</td>\n",
       "      <td>699</td>\n",
       "      <td>France</td>\n",
       "      <td>Female</td>\n",
       "      <td>39</td>\n",
       "      <td>1.0</td>\n",
       "      <td>0.00</td>\n",
       "      <td>2</td>\n",
       "      <td>0</td>\n",
       "      <td>0</td>\n",
       "      <td>93826.63</td>\n",
       "      <td>0</td>\n",
       "    </tr>\n",
       "    <tr>\n",
       "      <th>4</th>\n",
       "      <td>5</td>\n",
       "      <td>15737888</td>\n",
       "      <td>Mitchell</td>\n",
       "      <td>850</td>\n",
       "      <td>Spain</td>\n",
       "      <td>Female</td>\n",
       "      <td>43</td>\n",
       "      <td>2.0</td>\n",
       "      <td>125510.82</td>\n",
       "      <td>1</td>\n",
       "      <td>1</td>\n",
       "      <td>1</td>\n",
       "      <td>79084.10</td>\n",
       "      <td>0</td>\n",
       "    </tr>\n",
       "  </tbody>\n",
       "</table>\n",
       "</div>"
      ],
      "text/plain": [
       "   RowNumber  CustomerId   Surname  CreditScore Geography  Gender  Age  \\\n",
       "0          1    15634602  Hargrave          619    France  Female   42   \n",
       "1          2    15647311      Hill          608     Spain  Female   41   \n",
       "2          3    15619304      Onio          502    France  Female   42   \n",
       "3          4    15701354      Boni          699    France  Female   39   \n",
       "4          5    15737888  Mitchell          850     Spain  Female   43   \n",
       "\n",
       "   Tenure    Balance  NumOfProducts  HasCrCard  IsActiveMember  \\\n",
       "0     2.0       0.00              1          1               1   \n",
       "1     1.0   83807.86              1          0               1   \n",
       "2     8.0  159660.80              3          1               0   \n",
       "3     1.0       0.00              2          0               0   \n",
       "4     2.0  125510.82              1          1               1   \n",
       "\n",
       "   EstimatedSalary  Exited  \n",
       "0        101348.88       1  \n",
       "1        112542.58       0  \n",
       "2        113931.57       1  \n",
       "3         93826.63       0  \n",
       "4         79084.10       0  "
      ]
     },
     "execution_count": 3,
     "metadata": {},
     "output_type": "execute_result"
    }
   ],
   "source": [
    "df = pd.read_csv('Churn.csv')\n",
    "df.head()"
   ]
  },
  {
   "cell_type": "markdown",
   "metadata": {},
   "source": [
    "### Transformando o cabeçalho do datase tudo em minusculo"
   ]
  },
  {
   "cell_type": "code",
   "execution_count": 4,
   "metadata": {},
   "outputs": [
    {
     "data": {
      "text/html": [
       "<div>\n",
       "<style scoped>\n",
       "    .dataframe tbody tr th:only-of-type {\n",
       "        vertical-align: middle;\n",
       "    }\n",
       "\n",
       "    .dataframe tbody tr th {\n",
       "        vertical-align: top;\n",
       "    }\n",
       "\n",
       "    .dataframe thead th {\n",
       "        text-align: right;\n",
       "    }\n",
       "</style>\n",
       "<table border=\"1\" class=\"dataframe\">\n",
       "  <thead>\n",
       "    <tr style=\"text-align: right;\">\n",
       "      <th></th>\n",
       "      <th>rownumber</th>\n",
       "      <th>customerid</th>\n",
       "      <th>surname</th>\n",
       "      <th>creditscore</th>\n",
       "      <th>geography</th>\n",
       "      <th>gender</th>\n",
       "      <th>age</th>\n",
       "      <th>tenure</th>\n",
       "      <th>balance</th>\n",
       "      <th>numofproducts</th>\n",
       "      <th>hascrcard</th>\n",
       "      <th>isactivemember</th>\n",
       "      <th>estimatedsalary</th>\n",
       "      <th>exited</th>\n",
       "    </tr>\n",
       "  </thead>\n",
       "  <tbody>\n",
       "    <tr>\n",
       "      <th>0</th>\n",
       "      <td>1</td>\n",
       "      <td>15634602</td>\n",
       "      <td>Hargrave</td>\n",
       "      <td>619</td>\n",
       "      <td>France</td>\n",
       "      <td>Female</td>\n",
       "      <td>42</td>\n",
       "      <td>2.0</td>\n",
       "      <td>0.00</td>\n",
       "      <td>1</td>\n",
       "      <td>1</td>\n",
       "      <td>1</td>\n",
       "      <td>101348.88</td>\n",
       "      <td>1</td>\n",
       "    </tr>\n",
       "    <tr>\n",
       "      <th>1</th>\n",
       "      <td>2</td>\n",
       "      <td>15647311</td>\n",
       "      <td>Hill</td>\n",
       "      <td>608</td>\n",
       "      <td>Spain</td>\n",
       "      <td>Female</td>\n",
       "      <td>41</td>\n",
       "      <td>1.0</td>\n",
       "      <td>83807.86</td>\n",
       "      <td>1</td>\n",
       "      <td>0</td>\n",
       "      <td>1</td>\n",
       "      <td>112542.58</td>\n",
       "      <td>0</td>\n",
       "    </tr>\n",
       "    <tr>\n",
       "      <th>2</th>\n",
       "      <td>3</td>\n",
       "      <td>15619304</td>\n",
       "      <td>Onio</td>\n",
       "      <td>502</td>\n",
       "      <td>France</td>\n",
       "      <td>Female</td>\n",
       "      <td>42</td>\n",
       "      <td>8.0</td>\n",
       "      <td>159660.80</td>\n",
       "      <td>3</td>\n",
       "      <td>1</td>\n",
       "      <td>0</td>\n",
       "      <td>113931.57</td>\n",
       "      <td>1</td>\n",
       "    </tr>\n",
       "    <tr>\n",
       "      <th>3</th>\n",
       "      <td>4</td>\n",
       "      <td>15701354</td>\n",
       "      <td>Boni</td>\n",
       "      <td>699</td>\n",
       "      <td>France</td>\n",
       "      <td>Female</td>\n",
       "      <td>39</td>\n",
       "      <td>1.0</td>\n",
       "      <td>0.00</td>\n",
       "      <td>2</td>\n",
       "      <td>0</td>\n",
       "      <td>0</td>\n",
       "      <td>93826.63</td>\n",
       "      <td>0</td>\n",
       "    </tr>\n",
       "    <tr>\n",
       "      <th>4</th>\n",
       "      <td>5</td>\n",
       "      <td>15737888</td>\n",
       "      <td>Mitchell</td>\n",
       "      <td>850</td>\n",
       "      <td>Spain</td>\n",
       "      <td>Female</td>\n",
       "      <td>43</td>\n",
       "      <td>2.0</td>\n",
       "      <td>125510.82</td>\n",
       "      <td>1</td>\n",
       "      <td>1</td>\n",
       "      <td>1</td>\n",
       "      <td>79084.10</td>\n",
       "      <td>0</td>\n",
       "    </tr>\n",
       "  </tbody>\n",
       "</table>\n",
       "</div>"
      ],
      "text/plain": [
       "   rownumber  customerid   surname  creditscore geography  gender  age  \\\n",
       "0          1    15634602  Hargrave          619    France  Female   42   \n",
       "1          2    15647311      Hill          608     Spain  Female   41   \n",
       "2          3    15619304      Onio          502    France  Female   42   \n",
       "3          4    15701354      Boni          699    France  Female   39   \n",
       "4          5    15737888  Mitchell          850     Spain  Female   43   \n",
       "\n",
       "   tenure    balance  numofproducts  hascrcard  isactivemember  \\\n",
       "0     2.0       0.00              1          1               1   \n",
       "1     1.0   83807.86              1          0               1   \n",
       "2     8.0  159660.80              3          1               0   \n",
       "3     1.0       0.00              2          0               0   \n",
       "4     2.0  125510.82              1          1               1   \n",
       "\n",
       "   estimatedsalary  exited  \n",
       "0        101348.88       1  \n",
       "1        112542.58       0  \n",
       "2        113931.57       1  \n",
       "3         93826.63       0  \n",
       "4         79084.10       0  "
      ]
     },
     "execution_count": 4,
     "metadata": {},
     "output_type": "execute_result"
    }
   ],
   "source": [
    "#transformando tudo em minusculo para facilitar o trabalho\n",
    "df.columns = df.columns.str.lower()\n",
    "df.head()"
   ]
  },
  {
   "cell_type": "markdown",
   "metadata": {},
   "source": [
    "### Observando as informações dos dados"
   ]
  },
  {
   "cell_type": "code",
   "execution_count": 5,
   "metadata": {},
   "outputs": [
    {
     "name": "stdout",
     "output_type": "stream",
     "text": [
      "<class 'pandas.core.frame.DataFrame'>\n",
      "RangeIndex: 10000 entries, 0 to 9999\n",
      "Data columns (total 14 columns):\n",
      " #   Column           Non-Null Count  Dtype  \n",
      "---  ------           --------------  -----  \n",
      " 0   rownumber        10000 non-null  int64  \n",
      " 1   customerid       10000 non-null  int64  \n",
      " 2   surname          10000 non-null  object \n",
      " 3   creditscore      10000 non-null  int64  \n",
      " 4   geography        10000 non-null  object \n",
      " 5   gender           10000 non-null  object \n",
      " 6   age              10000 non-null  int64  \n",
      " 7   tenure           9091 non-null   float64\n",
      " 8   balance          10000 non-null  float64\n",
      " 9   numofproducts    10000 non-null  int64  \n",
      " 10  hascrcard        10000 non-null  int64  \n",
      " 11  isactivemember   10000 non-null  int64  \n",
      " 12  estimatedsalary  10000 non-null  float64\n",
      " 13  exited           10000 non-null  int64  \n",
      "dtypes: float64(3), int64(8), object(3)\n",
      "memory usage: 1.1+ MB\n"
     ]
    }
   ],
   "source": [
    "df.info()"
   ]
  },
  {
   "cell_type": "markdown",
   "metadata": {},
   "source": [
    "### Observando a estatistica dos dados"
   ]
  },
  {
   "cell_type": "code",
   "execution_count": 6,
   "metadata": {},
   "outputs": [
    {
     "data": {
      "text/html": [
       "<div>\n",
       "<style scoped>\n",
       "    .dataframe tbody tr th:only-of-type {\n",
       "        vertical-align: middle;\n",
       "    }\n",
       "\n",
       "    .dataframe tbody tr th {\n",
       "        vertical-align: top;\n",
       "    }\n",
       "\n",
       "    .dataframe thead th {\n",
       "        text-align: right;\n",
       "    }\n",
       "</style>\n",
       "<table border=\"1\" class=\"dataframe\">\n",
       "  <thead>\n",
       "    <tr style=\"text-align: right;\">\n",
       "      <th></th>\n",
       "      <th>count</th>\n",
       "      <th>mean</th>\n",
       "      <th>std</th>\n",
       "      <th>min</th>\n",
       "      <th>25%</th>\n",
       "      <th>50%</th>\n",
       "      <th>75%</th>\n",
       "      <th>max</th>\n",
       "    </tr>\n",
       "  </thead>\n",
       "  <tbody>\n",
       "    <tr>\n",
       "      <th>rownumber</th>\n",
       "      <td>10000.0</td>\n",
       "      <td>5.000500e+03</td>\n",
       "      <td>2886.895680</td>\n",
       "      <td>1.00</td>\n",
       "      <td>2500.75</td>\n",
       "      <td>5.000500e+03</td>\n",
       "      <td>7.500250e+03</td>\n",
       "      <td>10000.00</td>\n",
       "    </tr>\n",
       "    <tr>\n",
       "      <th>customerid</th>\n",
       "      <td>10000.0</td>\n",
       "      <td>1.569094e+07</td>\n",
       "      <td>71936.186123</td>\n",
       "      <td>15565701.00</td>\n",
       "      <td>15628528.25</td>\n",
       "      <td>1.569074e+07</td>\n",
       "      <td>1.575323e+07</td>\n",
       "      <td>15815690.00</td>\n",
       "    </tr>\n",
       "    <tr>\n",
       "      <th>creditscore</th>\n",
       "      <td>10000.0</td>\n",
       "      <td>6.505288e+02</td>\n",
       "      <td>96.653299</td>\n",
       "      <td>350.00</td>\n",
       "      <td>584.00</td>\n",
       "      <td>6.520000e+02</td>\n",
       "      <td>7.180000e+02</td>\n",
       "      <td>850.00</td>\n",
       "    </tr>\n",
       "    <tr>\n",
       "      <th>age</th>\n",
       "      <td>10000.0</td>\n",
       "      <td>3.892180e+01</td>\n",
       "      <td>10.487806</td>\n",
       "      <td>18.00</td>\n",
       "      <td>32.00</td>\n",
       "      <td>3.700000e+01</td>\n",
       "      <td>4.400000e+01</td>\n",
       "      <td>92.00</td>\n",
       "    </tr>\n",
       "    <tr>\n",
       "      <th>tenure</th>\n",
       "      <td>9091.0</td>\n",
       "      <td>4.997690e+00</td>\n",
       "      <td>2.894723</td>\n",
       "      <td>0.00</td>\n",
       "      <td>2.00</td>\n",
       "      <td>5.000000e+00</td>\n",
       "      <td>7.000000e+00</td>\n",
       "      <td>10.00</td>\n",
       "    </tr>\n",
       "    <tr>\n",
       "      <th>balance</th>\n",
       "      <td>10000.0</td>\n",
       "      <td>7.648589e+04</td>\n",
       "      <td>62397.405202</td>\n",
       "      <td>0.00</td>\n",
       "      <td>0.00</td>\n",
       "      <td>9.719854e+04</td>\n",
       "      <td>1.276442e+05</td>\n",
       "      <td>250898.09</td>\n",
       "    </tr>\n",
       "    <tr>\n",
       "      <th>numofproducts</th>\n",
       "      <td>10000.0</td>\n",
       "      <td>1.530200e+00</td>\n",
       "      <td>0.581654</td>\n",
       "      <td>1.00</td>\n",
       "      <td>1.00</td>\n",
       "      <td>1.000000e+00</td>\n",
       "      <td>2.000000e+00</td>\n",
       "      <td>4.00</td>\n",
       "    </tr>\n",
       "    <tr>\n",
       "      <th>hascrcard</th>\n",
       "      <td>10000.0</td>\n",
       "      <td>7.055000e-01</td>\n",
       "      <td>0.455840</td>\n",
       "      <td>0.00</td>\n",
       "      <td>0.00</td>\n",
       "      <td>1.000000e+00</td>\n",
       "      <td>1.000000e+00</td>\n",
       "      <td>1.00</td>\n",
       "    </tr>\n",
       "    <tr>\n",
       "      <th>isactivemember</th>\n",
       "      <td>10000.0</td>\n",
       "      <td>5.151000e-01</td>\n",
       "      <td>0.499797</td>\n",
       "      <td>0.00</td>\n",
       "      <td>0.00</td>\n",
       "      <td>1.000000e+00</td>\n",
       "      <td>1.000000e+00</td>\n",
       "      <td>1.00</td>\n",
       "    </tr>\n",
       "    <tr>\n",
       "      <th>estimatedsalary</th>\n",
       "      <td>10000.0</td>\n",
       "      <td>1.000902e+05</td>\n",
       "      <td>57510.492818</td>\n",
       "      <td>11.58</td>\n",
       "      <td>51002.11</td>\n",
       "      <td>1.001939e+05</td>\n",
       "      <td>1.493882e+05</td>\n",
       "      <td>199992.48</td>\n",
       "    </tr>\n",
       "    <tr>\n",
       "      <th>exited</th>\n",
       "      <td>10000.0</td>\n",
       "      <td>2.037000e-01</td>\n",
       "      <td>0.402769</td>\n",
       "      <td>0.00</td>\n",
       "      <td>0.00</td>\n",
       "      <td>0.000000e+00</td>\n",
       "      <td>0.000000e+00</td>\n",
       "      <td>1.00</td>\n",
       "    </tr>\n",
       "  </tbody>\n",
       "</table>\n",
       "</div>"
      ],
      "text/plain": [
       "                   count          mean           std          min  \\\n",
       "rownumber        10000.0  5.000500e+03   2886.895680         1.00   \n",
       "customerid       10000.0  1.569094e+07  71936.186123  15565701.00   \n",
       "creditscore      10000.0  6.505288e+02     96.653299       350.00   \n",
       "age              10000.0  3.892180e+01     10.487806        18.00   \n",
       "tenure            9091.0  4.997690e+00      2.894723         0.00   \n",
       "balance          10000.0  7.648589e+04  62397.405202         0.00   \n",
       "numofproducts    10000.0  1.530200e+00      0.581654         1.00   \n",
       "hascrcard        10000.0  7.055000e-01      0.455840         0.00   \n",
       "isactivemember   10000.0  5.151000e-01      0.499797         0.00   \n",
       "estimatedsalary  10000.0  1.000902e+05  57510.492818        11.58   \n",
       "exited           10000.0  2.037000e-01      0.402769         0.00   \n",
       "\n",
       "                         25%           50%           75%          max  \n",
       "rownumber            2500.75  5.000500e+03  7.500250e+03     10000.00  \n",
       "customerid       15628528.25  1.569074e+07  1.575323e+07  15815690.00  \n",
       "creditscore           584.00  6.520000e+02  7.180000e+02       850.00  \n",
       "age                    32.00  3.700000e+01  4.400000e+01        92.00  \n",
       "tenure                  2.00  5.000000e+00  7.000000e+00        10.00  \n",
       "balance                 0.00  9.719854e+04  1.276442e+05    250898.09  \n",
       "numofproducts           1.00  1.000000e+00  2.000000e+00         4.00  \n",
       "hascrcard               0.00  1.000000e+00  1.000000e+00         1.00  \n",
       "isactivemember          0.00  1.000000e+00  1.000000e+00         1.00  \n",
       "estimatedsalary     51002.11  1.001939e+05  1.493882e+05    199992.48  \n",
       "exited                  0.00  0.000000e+00  0.000000e+00         1.00  "
      ]
     },
     "execution_count": 6,
     "metadata": {},
     "output_type": "execute_result"
    }
   ],
   "source": [
    "df.describe().T"
   ]
  },
  {
   "cell_type": "markdown",
   "metadata": {},
   "source": [
    "### Verificando  dados nulos"
   ]
  },
  {
   "cell_type": "code",
   "execution_count": 7,
   "metadata": {},
   "outputs": [
    {
     "data": {
      "text/plain": [
       "rownumber            0\n",
       "customerid           0\n",
       "creditscore          0\n",
       "age                  0\n",
       "tenure             909\n",
       "balance              0\n",
       "numofproducts        0\n",
       "hascrcard            0\n",
       "isactivemember       0\n",
       "estimatedsalary      0\n",
       "exited               0\n",
       "dtype: int64"
      ]
     },
     "execution_count": 7,
     "metadata": {},
     "output_type": "execute_result"
    }
   ],
   "source": [
    "df[['rownumber','customerid','creditscore','age','tenure','balance',\n",
    "    'numofproducts','hascrcard','isactivemember','estimatedsalary','exited']].isna().sum()"
   ]
  },
  {
   "cell_type": "markdown",
   "metadata": {},
   "source": [
    "### verificação do peso dos dados nulos"
   ]
  },
  {
   "cell_type": "code",
   "execution_count": 8,
   "metadata": {},
   "outputs": [
    {
     "data": {
      "text/plain": [
       "np.float64(0.0909)"
      ]
     },
     "execution_count": 8,
     "metadata": {},
     "output_type": "execute_result"
    }
   ],
   "source": [
    "df['tenure'].isnull().sum()/len(df['tenure'])"
   ]
  },
  {
   "cell_type": "markdown",
   "metadata": {},
   "source": [
    "Os dados faltantes representam 0,0909% do total do arquivo. Não identifiquei nenhum padrão aparente entre a coluna “Tenure” e os demais dados. Portanto, inicialmente, vou remover os dados faltantes."
   ]
  },
  {
   "cell_type": "markdown",
   "metadata": {},
   "source": [
    "#### Retirada do numeros nulo da coluna 'Tenure'"
   ]
  },
  {
   "cell_type": "code",
   "execution_count": 9,
   "metadata": {},
   "outputs": [
    {
     "name": "stdout",
     "output_type": "stream",
     "text": [
      "<class 'pandas.core.frame.DataFrame'>\n",
      "Index: 9091 entries, 0 to 9998\n",
      "Data columns (total 14 columns):\n",
      " #   Column           Non-Null Count  Dtype  \n",
      "---  ------           --------------  -----  \n",
      " 0   rownumber        9091 non-null   int64  \n",
      " 1   customerid       9091 non-null   int64  \n",
      " 2   surname          9091 non-null   object \n",
      " 3   creditscore      9091 non-null   int64  \n",
      " 4   geography        9091 non-null   object \n",
      " 5   gender           9091 non-null   object \n",
      " 6   age              9091 non-null   int64  \n",
      " 7   tenure           9091 non-null   float64\n",
      " 8   balance          9091 non-null   float64\n",
      " 9   numofproducts    9091 non-null   int64  \n",
      " 10  hascrcard        9091 non-null   int64  \n",
      " 11  isactivemember   9091 non-null   int64  \n",
      " 12  estimatedsalary  9091 non-null   float64\n",
      " 13  exited           9091 non-null   int64  \n",
      "dtypes: float64(3), int64(8), object(3)\n",
      "memory usage: 1.0+ MB\n"
     ]
    }
   ],
   "source": [
    "df = df.dropna()\n",
    "df.info()"
   ]
  },
  {
   "cell_type": "markdown",
   "metadata": {},
   "source": [
    "#### Verificando se os nulos foram removidos"
   ]
  },
  {
   "cell_type": "code",
   "execution_count": 10,
   "metadata": {
    "scrolled": true
   },
   "outputs": [
    {
     "data": {
      "text/plain": [
       "np.int64(0)"
      ]
     },
     "execution_count": 10,
     "metadata": {},
     "output_type": "execute_result"
    }
   ],
   "source": [
    "df['tenure'].isna().sum()"
   ]
  },
  {
   "cell_type": "markdown",
   "metadata": {},
   "source": [
    "##  Definindo os conjuntos de teste\n"
   ]
  },
  {
   "cell_type": "markdown",
   "metadata": {},
   "source": [
    "###  Retirando a coluna Surname que não será utilizada no treinamento"
   ]
  },
  {
   "cell_type": "code",
   "execution_count": 11,
   "metadata": {},
   "outputs": [],
   "source": [
    "df = df.drop(['surname'], axis =1)"
   ]
  },
  {
   "cell_type": "markdown",
   "metadata": {},
   "source": [
    "### Utilizando a codificação OHE para variáveis categóricas, assim o modelo pode prever todas a variáveis."
   ]
  },
  {
   "cell_type": "code",
   "execution_count": 12,
   "metadata": {},
   "outputs": [],
   "source": [
    "df = pd.get_dummies(df, drop_first=True)"
   ]
  },
  {
   "cell_type": "code",
   "execution_count": 13,
   "metadata": {},
   "outputs": [],
   "source": [
    "# As características são todas as informações sobre os clientes que não possuem quaisquer relações com sua identificação:\n",
    "# (CreditScore, Geography, Gender, Age, Tenure, Balance, NumOfProducts, HasCrCard, IsActiveMember e EstimatedSalary)\n",
    "features = df.drop(['rownumber', 'customerid','exited'], axis=1)"
   ]
  },
  {
   "cell_type": "markdown",
   "metadata": {},
   "source": [
    "###  O resultado que queremos é se o cliente saiu (1) ou permaneceu (0)"
   ]
  },
  {
   "cell_type": "code",
   "execution_count": 14,
   "metadata": {},
   "outputs": [],
   "source": [
    "target = df['exited']"
   ]
  },
  {
   "cell_type": "markdown",
   "metadata": {},
   "source": [
    "##  Separando os dados para treino e teste, colocando 80% em teste e o resto em treinamento"
   ]
  },
  {
   "cell_type": "code",
   "execution_count": 15,
   "metadata": {},
   "outputs": [],
   "source": [
    "features_train, features_test, target_train, target_test = train_test_split(\n",
    "    features,target , test_size=0.2, random_state=12345)"
   ]
  },
  {
   "cell_type": "markdown",
   "metadata": {},
   "source": [
    "## Separando os dados para treino e validação, colocando 25% em teste e o resto em validação"
   ]
  },
  {
   "cell_type": "code",
   "execution_count": 16,
   "metadata": {},
   "outputs": [],
   "source": [
    "features_test, features_valid, target_test, target_valid = train_test_split(\n",
    "    features_test, target_test , test_size=0.75, random_state=12345)"
   ]
  },
  {
   "cell_type": "code",
   "execution_count": 17,
   "metadata": {},
   "outputs": [
    {
     "data": {
      "text/plain": [
       "7272"
      ]
     },
     "execution_count": 17,
     "metadata": {},
     "output_type": "execute_result"
    }
   ],
   "source": [
    "len(features_train)"
   ]
  },
  {
   "cell_type": "code",
   "execution_count": 18,
   "metadata": {},
   "outputs": [
    {
     "data": {
      "text/plain": [
       "454"
      ]
     },
     "execution_count": 18,
     "metadata": {},
     "output_type": "execute_result"
    }
   ],
   "source": [
    "len(features_test)"
   ]
  },
  {
   "cell_type": "code",
   "execution_count": 19,
   "metadata": {},
   "outputs": [
    {
     "data": {
      "text/plain": [
       "1365"
      ]
     },
     "execution_count": 19,
     "metadata": {},
     "output_type": "execute_result"
    }
   ],
   "source": [
    "len(features_valid)"
   ]
  },
  {
   "cell_type": "markdown",
   "metadata": {},
   "source": [
    "##  Ajustando a escalabilidade das características para garantir que todas tenham a mesma importância no modelo"
   ]
  },
  {
   "cell_type": "code",
   "execution_count": null,
   "metadata": {},
   "outputs": [],
   "source": [
    "numeric = ['creditscore', 'age' , 'tenure', 'balance', 'numofproducts', 'estimatedsalary'] # são as características que queremos deixar com a mesma importancia\n",
    "\n",
    "scaler = StandardScaler()\n",
    "scaler.fit(features_train[numeric])\n",
    "\n",
    "features_train.loc[:, numeric] = scaler.transform(features_train[numeric])\n",
    "features_valid.loc[:, numeric] = scaler.transform(features_valid[numeric])\n"
   ]
  },
  {
   "cell_type": "markdown",
   "metadata": {},
   "source": [
    "\n",
    "## Regressão Logística - sem levar em conta o desequilíbrio de classes\n"
   ]
  },
  {
   "cell_type": "code",
   "execution_count": 21,
   "metadata": {},
   "outputs": [
    {
     "name": "stdout",
     "output_type": "stream",
     "text": [
      "Acurácia do modelo de regressão logística no conjunto de treinamento: 0.8081683168316832\n",
      "Acurácia do modelo de regressão logística no conjunto de teste: 0.21585903083700442\n",
      "Acurácia do modelo de regressão logística no conjunto de validação: 0.8205128205128205\n"
     ]
    }
   ],
   "source": [
    "model = LogisticRegression(random_state=12345, solver='liblinear')\n",
    "model.fit(features_train,target_train)\n",
    "\n",
    "score_train = model.score(features_train, target_train)# calcule a acurácia no conjunto de treinamento\n",
    "score_test = model.score(features_test, target_test)# calcule a acurácia no conjunto de treinamento\n",
    "score_valid = model.score(features_valid, target_valid) # calcule a acurácia no conjunto de validação\n",
    "\n",
    "print(\"Acurácia do modelo de regressão logística no conjunto de treinamento:\", score_train)\n",
    "print(\"Acurácia do modelo de regressão logística no conjunto de teste:\", score_test)\n",
    "print(\"Acurácia do modelo de regressão logística no conjunto de validação:\", score_valid)"
   ]
  },
  {
   "cell_type": "markdown",
   "metadata": {},
   "source": [
    "###  Verificando a matriz de confusão para os dados"
   ]
  },
  {
   "cell_type": "code",
   "execution_count": 22,
   "metadata": {},
   "outputs": [
    {
     "data": {
      "text/plain": [
       "array([[1064,   30],\n",
       "       [ 215,   56]])"
      ]
     },
     "execution_count": 22,
     "metadata": {},
     "output_type": "execute_result"
    }
   ],
   "source": [
    "predicted_valid = model.predict(features_valid)\n",
    "confusion_matrix(target_valid, predicted_valid)"
   ]
  },
  {
   "cell_type": "markdown",
   "metadata": {},
   "source": [
    "### Sensibilidade"
   ]
  },
  {
   "cell_type": "code",
   "execution_count": 23,
   "metadata": {},
   "outputs": [
    {
     "data": {
      "text/plain": [
       "np.float64(0.2066420664206642)"
      ]
     },
     "execution_count": 23,
     "metadata": {},
     "output_type": "execute_result"
    }
   ],
   "source": [
    "recall_score(target_valid, predicted_valid)"
   ]
  },
  {
   "cell_type": "markdown",
   "metadata": {},
   "source": [
    "### Precisão"
   ]
  },
  {
   "cell_type": "code",
   "execution_count": 24,
   "metadata": {},
   "outputs": [
    {
     "data": {
      "text/plain": [
       "np.float64(0.6511627906976745)"
      ]
     },
     "execution_count": 24,
     "metadata": {},
     "output_type": "execute_result"
    }
   ],
   "source": [
    "precision_score(target_valid,predicted_valid)"
   ]
  },
  {
   "cell_type": "markdown",
   "metadata": {},
   "source": [
    "### F1-score"
   ]
  },
  {
   "cell_type": "code",
   "execution_count": 25,
   "metadata": {},
   "outputs": [
    {
     "data": {
      "text/plain": [
       "np.float64(0.3137254901960784)"
      ]
     },
     "execution_count": 25,
     "metadata": {},
     "output_type": "execute_result"
    }
   ],
   "source": [
    "f1_score(target_valid, predicted_valid)"
   ]
  },
  {
   "cell_type": "markdown",
   "metadata": {},
   "source": [
    "Embora a precisão do modelo seja relativamente alta, ele apresenta uma sensibilidade inferior, o que impacta negativamente o valor do F1-score. Isso sugere a necessidade de ajustar o equilíbrio entre essas métricas"
   ]
  },
  {
   "cell_type": "markdown",
   "metadata": {},
   "source": [
    "\n",
    "## Trabalhando o Equilíbrio de Classes\n"
   ]
  },
  {
   "cell_type": "markdown",
   "metadata": {},
   "source": [
    "###  Adicionando o argumento class_weight no modelo"
   ]
  },
  {
   "cell_type": "code",
   "execution_count": 26,
   "metadata": {},
   "outputs": [],
   "source": [
    "model = LogisticRegression(random_state=54321, solver='liblinear', class_weight='balanced')\n",
    "model.fit(features_train,target_train)\n",
    "\n",
    "score_train = model.score(features_train, target_train)# calcule a acurácia no conjunto de treinamento\n",
    "score_test = model.score(features_test, target_test)# calcule a acurácia no conjunto de treinamento\n",
    "score_valid = model.score(features_valid, target_valid) # calcule a acurácia no conjunto de validação\n",
    "\n",
    "predicted_valid = model.predict(features_valid)"
   ]
  },
  {
   "cell_type": "markdown",
   "metadata": {},
   "source": [
    "### Sensibilidade"
   ]
  },
  {
   "cell_type": "code",
   "execution_count": 27,
   "metadata": {},
   "outputs": [
    {
     "data": {
      "text/plain": [
       "np.float64(0.7453874538745388)"
      ]
     },
     "execution_count": 27,
     "metadata": {},
     "output_type": "execute_result"
    }
   ],
   "source": [
    "recall_score(target_valid, predicted_valid)"
   ]
  },
  {
   "cell_type": "markdown",
   "metadata": {},
   "source": [
    "### Precisão"
   ]
  },
  {
   "cell_type": "code",
   "execution_count": 28,
   "metadata": {},
   "outputs": [
    {
     "data": {
      "text/plain": [
       "np.float64(0.4122448979591837)"
      ]
     },
     "execution_count": 28,
     "metadata": {},
     "output_type": "execute_result"
    }
   ],
   "source": [
    "precision_score(target_valid,predicted_valid)"
   ]
  },
  {
   "cell_type": "markdown",
   "metadata": {},
   "source": [
    "### F1-score"
   ]
  },
  {
   "cell_type": "code",
   "execution_count": 29,
   "metadata": {},
   "outputs": [
    {
     "data": {
      "text/plain": [
       "np.float64(0.5308804204993429)"
      ]
     },
     "execution_count": 29,
     "metadata": {},
     "output_type": "execute_result"
    }
   ],
   "source": [
    "f1_score(target_valid, predicted_valid)"
   ]
  },
  {
   "cell_type": "markdown",
   "metadata": {},
   "source": [
    "### Traçando a curva ROC do modelo"
   ]
  },
  {
   "cell_type": "code",
   "execution_count": 30,
   "metadata": {},
   "outputs": [
    {
     "data": {
      "image/png": "[encoded data removed]",
      "text/plain": [
       "<Figure size 800x600 with 1 Axes>"
      ]
     },
     "metadata": {},
     "output_type": "display_data"
    }
   ],
   "source": [
    "probabilities_valid = model.predict_proba(features_valid)\n",
    "probabilities_one_valid = probabilities_valid[:, 1]\n",
    "\n",
    "fpr, tpr, thresholds = roc_curve(target_valid, probabilities_one_valid)\n",
    "\n",
    "sns.set(style='whitegrid')\n",
    "\n",
    "# figura e o gráfico com Seaborn\n",
    "plt.figure(figsize=(8, 6))\n",
    "sns.lineplot(x=fpr, y=tpr, label='Curva ROC', color='blue')\n",
    "sns.lineplot(x=[0, 1], y=[0, 1], label='Linha Aleatória', linestyle='--', color='red')\n",
    "\n",
    "# Definir os limites e rótulos dos eixos\n",
    "plt.xlim([0.0, 1.0])\n",
    "plt.ylim([0.0, 1.0])\n",
    "plt.xlabel('Taxa de Falsos Positivos (FPR)', fontsize=12)\n",
    "plt.ylabel('Taxa de Verdadeiros Positivos (TPR)', fontsize=12)\n",
    "plt.title('Curva ROC', fontsize=15)\n",
    "\n",
    "# Exibir o gráfico\n",
    "plt.legend()\n",
    "plt.show()"
   ]
  },
  {
   "cell_type": "markdown",
   "metadata": {},
   "source": [
    "### Traçando a curva ROC do modelo"
   ]
  },
  {
   "cell_type": "code",
   "execution_count": 31,
   "metadata": {},
   "outputs": [
    {
     "data": {
      "text/plain": [
       "np.float64(0.8025661609449732)"
      ]
     },
     "execution_count": 31,
     "metadata": {},
     "output_type": "execute_result"
    }
   ],
   "source": [
    "probabilities_valid = model.predict_proba(features_valid)\n",
    "probabilities_one_valid = probabilities_valid[:, 1]\n",
    "roc_auc_score(target_valid, probabilities_one_valid)"
   ]
  },
  {
   "cell_type": "markdown",
   "metadata": {},
   "source": [
    "Após balancearmos as classes e melhorarmos nossos indicadores, vamos agora adotar uma nova abordagem, incorporando a subamostragem"
   ]
  },
  {
   "cell_type": "markdown",
   "metadata": {},
   "source": [
    "### Subamostragem"
   ]
  },
  {
   "cell_type": "code",
   "execution_count": 32,
   "metadata": {},
   "outputs": [],
   "source": [
    "def downsample(features, target, fraction):\n",
    "    features_zeros = features[target == 0]\n",
    "    features_ones = features[target == 1]\n",
    "    target_zeros = target[target == 0]\n",
    "    target_ones = target[target == 1]\n",
    "\n",
    "    features_downsampled = pd.concat(\n",
    "        [features_zeros.sample(frac=fraction, random_state=12345)]\n",
    "        + [features_ones]\n",
    "    )\n",
    "    target_downsampled = pd.concat(\n",
    "        [target_zeros.sample(frac=fraction, random_state=12345)]\n",
    "        + [target_ones]\n",
    "    )\n",
    "\n",
    "    features_downsampled, target_downsampled = shuffle(\n",
    "        features_downsampled, target_downsampled, random_state=12345\n",
    "    )\n",
    "\n",
    "    return features_downsampled, target_downsampled"
   ]
  },
  {
   "cell_type": "code",
   "execution_count": 33,
   "metadata": {},
   "outputs": [
    {
     "data": {
      "text/plain": [
       "np.float64(0.524547803617571)"
      ]
     },
     "execution_count": 33,
     "metadata": {},
     "output_type": "execute_result"
    }
   ],
   "source": [
    "features_downsampled, target_downsampled = downsample(features_train, target_train, 0.1)\n",
    "\n",
    "model = LogisticRegression(random_state=54321, solver='liblinear', class_weight='balanced')\n",
    "model.fit(features_downsampled,target_downsampled)\n",
    "predicted_valid = model.predict(features_valid)\n",
    "\n",
    "f1_score(target_valid, predicted_valid)"
   ]
  },
  {
   "cell_type": "markdown",
   "metadata": {},
   "source": [
    "### Traçando a curva ROC do modelo"
   ]
  },
  {
   "cell_type": "code",
   "execution_count": 34,
   "metadata": {},
   "outputs": [
    {
     "data": {
      "image/png": "[encoded data removed]",
      "text/plain": [
       "<Figure size 640x480 with 1 Axes>"
      ]
     },
     "metadata": {},
     "output_type": "display_data"
    }
   ],
   "source": [
    "\n",
    "probabilities_valid = model.predict_proba(features_valid)\n",
    "probabilities_one_valid = probabilities_valid[:, 1]\n",
    "\n",
    "fpr, tpr, thresholds = roc_curve(target_valid, probabilities_one_valid)\n",
    "\n",
    "plt.figure()\n",
    "plt.plot(fpr, tpr)\n",
    "plt.plot([0, 1], [0, 1], linestyle='--')\n",
    "plt.xlim([0.0, 1.0])\n",
    "plt.ylim([0.0, 1.0])\n",
    "plt.xlabel('Taxa de Falsos Positivos')\n",
    "plt.ylabel('Taxa de Verdadeiros Positivos')\n",
    "plt.title('Curva ROC')\n",
    "plt.show()"
   ]
  },
  {
   "cell_type": "markdown",
   "metadata": {},
   "source": [
    "### Metrica AUC-ROC"
   ]
  },
  {
   "cell_type": "code",
   "execution_count": 35,
   "metadata": {},
   "outputs": [
    {
     "data": {
      "text/plain": [
       "np.float64(0.7968287269709992)"
      ]
     },
     "execution_count": 35,
     "metadata": {},
     "output_type": "execute_result"
    }
   ],
   "source": [
    "probabilities_valid = model.predict_proba(features_valid)\n",
    "probabilities_one_valid = probabilities_valid[:, 1]\n",
    "roc_auc_score(target_valid, probabilities_one_valid)"
   ]
  },
  {
   "cell_type": "markdown",
   "metadata": {},
   "source": [
    "A utilização da subamostragem para corrigir o equilíbrio não foi eficaz, pois resultou na diminuição do valor do F1-score. Portanto, na próxima abordagem, optarei pela superamostragem."
   ]
  },
  {
   "cell_type": "markdown",
   "metadata": {},
   "source": [
    "### Superamostragem"
   ]
  },
  {
   "cell_type": "code",
   "execution_count": 36,
   "metadata": {},
   "outputs": [],
   "source": [
    "def upsample(features, target, repeat):\n",
    "    features_zeros = features[target == 0]\n",
    "    features_ones = features[target == 1]\n",
    "    target_zeros = target[target == 0]\n",
    "    target_ones = target[target == 1]\n",
    "\n",
    "    features_upsampled = pd.concat([features_zeros] + [features_ones] * repeat)\n",
    "    target_upsampled = pd.concat([target_zeros] + [target_ones] * repeat)\n",
    "\n",
    "    features_upsampled, target_upsampled = shuffle(\n",
    "        features_upsampled, target_upsampled, random_state=12345\n",
    "    )\n",
    "\n",
    "    return features_upsampled, target_upsampled"
   ]
  },
  {
   "cell_type": "code",
   "execution_count": 37,
   "metadata": {},
   "outputs": [
    {
     "data": {
      "text/plain": [
       "np.float64(0.5308804204993429)"
      ]
     },
     "execution_count": 37,
     "metadata": {},
     "output_type": "execute_result"
    }
   ],
   "source": [
    "features_upsampled, target_upsampled = upsample(\n",
    "    features_train, target_train, 20\n",
    ")\n",
    "\n",
    "model = LogisticRegression(random_state=12345, solver='liblinear', class_weight='balanced')\n",
    "model.fit(features_upsampled, target_upsampled)\n",
    "predicted_valid = model.predict(features_valid)\n",
    "\n",
    "f1_score(target_valid, predicted_valid)"
   ]
  },
  {
   "cell_type": "markdown",
   "metadata": {},
   "source": [
    "### Traçando a curva ROC do modelo"
   ]
  },
  {
   "cell_type": "code",
   "execution_count": 38,
   "metadata": {},
   "outputs": [
    {
     "data": {
      "image/png": "[encoded data removed]",
      "text/plain": [
       "<Figure size 640x480 with 1 Axes>"
      ]
     },
     "metadata": {},
     "output_type": "display_data"
    }
   ],
   "source": [
    "probabilities_valid = model.predict_proba(features_valid)\n",
    "probabilities_one_valid = probabilities_valid[:, 1]\n",
    "\n",
    "fpr, tpr, thresholds = roc_curve(target_valid, probabilities_one_valid)\n",
    "\n",
    "plt.figure()\n",
    "plt.plot(fpr, tpr)\n",
    "plt.plot([0, 1], [0, 1], linestyle='--')\n",
    "plt.xlim([0.0, 1.0])\n",
    "plt.ylim([0.0, 1.0])\n",
    "plt.xlabel('Taxa de Falsos Positivos')\n",
    "plt.ylabel('Taxa de Verdadeiros Positivos')\n",
    "plt.title('Curva ROC')\n",
    "plt.show()"
   ]
  },
  {
   "cell_type": "markdown",
   "metadata": {},
   "source": [
    "### Metrica  AUC-ROC"
   ]
  },
  {
   "cell_type": "code",
   "execution_count": 39,
   "metadata": {},
   "outputs": [
    {
     "data": {
      "text/plain": [
       "np.float64(0.8026066366696574)"
      ]
     },
     "execution_count": 39,
     "metadata": {},
     "output_type": "execute_result"
    }
   ],
   "source": [
    "probabilities_valid = model.predict_proba(features_valid)\n",
    "probabilities_one_valid = probabilities_valid[:, 1]\n",
    "roc_auc_score(target_valid, probabilities_one_valid)"
   ]
  },
  {
   "cell_type": "markdown",
   "metadata": {},
   "source": [
    "## Conclusão"
   ]
  },
  {
   "cell_type": "markdown",
   "metadata": {},
   "source": [
    "A superamostragem também não foi muito eficaz na melhoria do modelo, pois o valor do F1-score permaneceu inalterado. No entanto, vamos continuar com essa abordagem, já que o resultado é melhor do que o modelo aleatório, embora o AUC-ROC ainda esteja abaixo de 1.\n",
    "\n",
    "Treinamos nosso modelo e ele apresentou bons resultados nas métricas utilizadas para verificar sua qualidade, como o F1-score e o AUC-ROC. Embora o modelo não atinja o valor máximo em ambas as métricas, seu desempenho é aceitável para ser colocado em uso. Além disso, a Curva ROC indica que ele apresenta resultados superiores ao modelo aleatório."
   ]
  }
 ],
 "metadata": {
  "ExecuteTimeLog": [
   {
    "duration": 10,
    "start_time": "2024-10-18T00:41:47.108Z"
   },
   {
    "duration": 7,
    "start_time": "2024-10-18T00:43:40.136Z"
   },
   {
    "duration": 4125,
    "start_time": "2024-10-18T00:43:51.737Z"
   },
   {
    "duration": 32,
    "start_time": "2024-10-18T00:45:21.415Z"
   },
   {
    "duration": 33,
    "start_time": "2024-10-18T00:45:29.235Z"
   },
   {
    "duration": 13,
    "start_time": "2024-10-18T00:45:46.054Z"
   },
   {
    "duration": 41,
    "start_time": "2024-10-18T00:46:23.638Z"
   },
   {
    "duration": 183,
    "start_time": "2024-10-18T00:46:55.406Z"
   },
   {
    "duration": 19,
    "start_time": "2024-10-18T00:47:20.340Z"
   },
   {
    "duration": 9,
    "start_time": "2024-10-18T00:50:22.775Z"
   },
   {
    "duration": 290,
    "start_time": "2024-10-18T00:53:54.778Z"
   },
   {
    "duration": 30,
    "start_time": "2024-10-18T00:54:03.056Z"
   },
   {
    "duration": 18,
    "start_time": "2024-10-18T00:54:10.544Z"
   },
   {
    "duration": 5,
    "start_time": "2024-10-18T00:55:12.412Z"
   },
   {
    "duration": 25,
    "start_time": "2024-10-18T01:03:25.421Z"
   },
   {
    "duration": 23,
    "start_time": "2024-10-18T01:03:51.137Z"
   },
   {
    "duration": 18,
    "start_time": "2024-10-18T01:05:37.789Z"
   },
   {
    "duration": 18,
    "start_time": "2024-10-18T01:06:09.212Z"
   },
   {
    "duration": 13,
    "start_time": "2024-10-18T01:06:20.622Z"
   },
   {
    "duration": 40,
    "start_time": "2024-10-18T01:06:21.212Z"
   },
   {
    "duration": 419,
    "start_time": "2024-10-18T01:06:22.681Z"
   },
   {
    "duration": 12,
    "start_time": "2024-10-18T01:07:48.310Z"
   },
   {
    "duration": 8,
    "start_time": "2024-10-18T01:08:22.017Z"
   },
   {
    "duration": 15,
    "start_time": "2024-10-18T01:08:23.265Z"
   },
   {
    "duration": 13,
    "start_time": "2024-10-18T01:10:03.560Z"
   },
   {
    "duration": 454,
    "start_time": "2024-10-18T01:10:44.082Z"
   },
   {
    "duration": 5,
    "start_time": "2024-10-18T01:10:58.666Z"
   },
   {
    "duration": 6,
    "start_time": "2024-10-18T01:11:02.622Z"
   },
   {
    "duration": 8,
    "start_time": "2024-10-18T01:11:23.292Z"
   },
   {
    "duration": 11,
    "start_time": "2024-10-18T01:11:37.536Z"
   },
   {
    "duration": 5,
    "start_time": "2024-10-18T01:11:47.068Z"
   },
   {
    "duration": 4,
    "start_time": "2024-10-18T01:12:01.836Z"
   },
   {
    "duration": 49,
    "start_time": "2024-10-18T01:12:43.634Z"
   },
   {
    "duration": 24,
    "start_time": "2024-10-18T01:12:56.249Z"
   },
   {
    "duration": 5,
    "start_time": "2024-10-18T01:13:50.566Z"
   },
   {
    "duration": 29,
    "start_time": "2024-10-18T01:15:05.294Z"
   },
   {
    "duration": 30,
    "start_time": "2024-10-18T01:15:28.982Z"
   },
   {
    "duration": 24,
    "start_time": "2024-10-18T01:15:57.829Z"
   },
   {
    "duration": 41,
    "start_time": "2024-10-18T01:16:36.401Z"
   },
   {
    "duration": 12,
    "start_time": "2024-10-18T01:17:00.315Z"
   },
   {
    "duration": 5,
    "start_time": "2024-10-18T01:17:02.750Z"
   },
   {
    "duration": 5,
    "start_time": "2024-10-18T01:17:05.374Z"
   },
   {
    "duration": 7,
    "start_time": "2024-10-18T01:17:27.775Z"
   },
   {
    "duration": 5,
    "start_time": "2024-10-18T01:17:36.561Z"
   },
   {
    "duration": 53,
    "start_time": "2024-10-18T01:19:48.430Z"
   },
   {
    "duration": 6,
    "start_time": "2024-10-18T01:19:59.486Z"
   },
   {
    "duration": 6,
    "start_time": "2024-10-18T01:20:06.544Z"
   },
   {
    "duration": 6,
    "start_time": "2024-10-18T01:20:19.406Z"
   },
   {
    "duration": 255,
    "start_time": "2024-10-18T01:20:28.939Z"
   },
   {
    "duration": 33,
    "start_time": "2024-10-18T01:20:42.893Z"
   },
   {
    "duration": 5,
    "start_time": "2024-10-18T01:21:39.882Z"
   },
   {
    "duration": 25,
    "start_time": "2024-10-18T01:21:48.177Z"
   },
   {
    "duration": 249,
    "start_time": "2024-10-18T01:21:56.335Z"
   },
   {
    "duration": 18,
    "start_time": "2024-10-18T01:22:07.581Z"
   },
   {
    "duration": 3,
    "start_time": "2024-10-18T01:22:56.317Z"
   },
   {
    "duration": 4,
    "start_time": "2024-10-18T01:23:39.918Z"
   },
   {
    "duration": 139,
    "start_time": "2024-10-18T01:23:49.295Z"
   },
   {
    "duration": 233,
    "start_time": "2024-10-18T01:23:59.696Z"
   },
   {
    "duration": 34,
    "start_time": "2024-10-18T01:24:13.635Z"
   },
   {
    "duration": 3,
    "start_time": "2024-10-18T01:25:48.080Z"
   },
   {
    "duration": 2,
    "start_time": "2024-10-18T01:27:08.366Z"
   },
   {
    "duration": 71,
    "start_time": "2024-10-18T01:30:29.955Z"
   },
   {
    "duration": 2241,
    "start_time": "2024-10-18T01:31:21.184Z"
   },
   {
    "duration": 9,
    "start_time": "2024-10-18T01:32:04.949Z"
   },
   {
    "duration": 4,
    "start_time": "2024-10-18T01:32:07.230Z"
   },
   {
    "duration": 18,
    "start_time": "2024-10-18T01:32:07.964Z"
   },
   {
    "duration": 2526,
    "start_time": "2024-10-18T01:32:56.368Z"
   },
   {
    "duration": 240,
    "start_time": "2024-10-18T01:33:32.549Z"
   },
   {
    "duration": 2,
    "start_time": "2024-10-18T01:34:10.304Z"
   },
   {
    "duration": 224,
    "start_time": "2024-10-18T01:34:18.275Z"
   },
   {
    "duration": 7,
    "start_time": "2024-10-18T01:36:03.251Z"
   },
   {
    "duration": 4,
    "start_time": "2024-10-18T01:39:57.054Z"
   },
   {
    "duration": 2,
    "start_time": "2024-10-18T01:40:41.906Z"
   },
   {
    "duration": 2,
    "start_time": "2024-10-18T01:41:04.656Z"
   },
   {
    "duration": 3,
    "start_time": "2024-10-18T01:42:15.858Z"
   },
   {
    "duration": 3,
    "start_time": "2024-10-18T01:43:21.537Z"
   },
   {
    "duration": 7,
    "start_time": "2024-10-18T01:44:54.979Z"
   },
   {
    "duration": 31,
    "start_time": "2024-10-18T01:45:39.159Z"
   },
   {
    "duration": 2,
    "start_time": "2024-10-18T01:45:50.280Z"
   },
   {
    "duration": 5,
    "start_time": "2024-10-18T01:46:32.483Z"
   },
   {
    "duration": 2,
    "start_time": "2024-10-18T01:46:37.864Z"
   },
   {
    "duration": 2,
    "start_time": "2024-10-18T01:47:15.078Z"
   },
   {
    "duration": 2,
    "start_time": "2024-10-18T01:48:34.376Z"
   },
   {
    "duration": 2,
    "start_time": "2024-10-18T01:48:40.722Z"
   },
   {
    "duration": 14,
    "start_time": "2024-10-18T01:49:56.915Z"
   },
   {
    "duration": 5,
    "start_time": "2024-10-18T01:50:30.428Z"
   },
   {
    "duration": 34,
    "start_time": "2024-10-18T01:50:30.436Z"
   },
   {
    "duration": 15,
    "start_time": "2024-10-18T01:50:30.472Z"
   },
   {
    "duration": 12,
    "start_time": "2024-10-18T01:50:30.489Z"
   },
   {
    "duration": 42,
    "start_time": "2024-10-18T01:50:30.524Z"
   },
   {
    "duration": 7,
    "start_time": "2024-10-18T01:50:30.568Z"
   },
   {
    "duration": 15,
    "start_time": "2024-10-18T01:50:30.577Z"
   },
   {
    "duration": 88,
    "start_time": "2024-10-18T01:50:30.594Z"
   },
   {
    "duration": 0,
    "start_time": "2024-10-18T01:50:30.686Z"
   },
   {
    "duration": 0,
    "start_time": "2024-10-18T01:50:30.687Z"
   },
   {
    "duration": 0,
    "start_time": "2024-10-18T01:50:30.688Z"
   },
   {
    "duration": 0,
    "start_time": "2024-10-18T01:50:30.689Z"
   },
   {
    "duration": 0,
    "start_time": "2024-10-18T01:50:30.691Z"
   },
   {
    "duration": 0,
    "start_time": "2024-10-18T01:50:30.692Z"
   },
   {
    "duration": 0,
    "start_time": "2024-10-18T01:50:30.694Z"
   },
   {
    "duration": 0,
    "start_time": "2024-10-18T01:50:30.695Z"
   },
   {
    "duration": 0,
    "start_time": "2024-10-18T01:50:30.697Z"
   },
   {
    "duration": 0,
    "start_time": "2024-10-18T01:50:30.698Z"
   },
   {
    "duration": 1,
    "start_time": "2024-10-18T01:50:30.699Z"
   },
   {
    "duration": 0,
    "start_time": "2024-10-18T01:50:30.701Z"
   },
   {
    "duration": 0,
    "start_time": "2024-10-18T01:50:30.702Z"
   },
   {
    "duration": 0,
    "start_time": "2024-10-18T01:50:30.704Z"
   },
   {
    "duration": 0,
    "start_time": "2024-10-18T01:50:30.705Z"
   },
   {
    "duration": 0,
    "start_time": "2024-10-18T01:50:30.724Z"
   },
   {
    "duration": 0,
    "start_time": "2024-10-18T01:50:30.726Z"
   },
   {
    "duration": 0,
    "start_time": "2024-10-18T01:50:30.727Z"
   },
   {
    "duration": 0,
    "start_time": "2024-10-18T01:50:30.728Z"
   },
   {
    "duration": 0,
    "start_time": "2024-10-18T01:50:30.730Z"
   },
   {
    "duration": 0,
    "start_time": "2024-10-18T01:50:30.731Z"
   },
   {
    "duration": 0,
    "start_time": "2024-10-18T01:50:30.733Z"
   },
   {
    "duration": 0,
    "start_time": "2024-10-18T01:50:30.734Z"
   },
   {
    "duration": 0,
    "start_time": "2024-10-18T01:50:30.735Z"
   },
   {
    "duration": 0,
    "start_time": "2024-10-18T01:50:30.737Z"
   },
   {
    "duration": 0,
    "start_time": "2024-10-18T01:50:30.738Z"
   },
   {
    "duration": 0,
    "start_time": "2024-10-18T01:50:30.739Z"
   },
   {
    "duration": 0,
    "start_time": "2024-10-18T01:50:30.741Z"
   },
   {
    "duration": 0,
    "start_time": "2024-10-18T01:50:30.742Z"
   },
   {
    "duration": 6,
    "start_time": "2024-10-18T01:50:59.876Z"
   },
   {
    "duration": 4,
    "start_time": "2024-10-18T01:51:45.900Z"
   },
   {
    "duration": 22,
    "start_time": "2024-10-18T01:51:45.906Z"
   },
   {
    "duration": 9,
    "start_time": "2024-10-18T01:51:45.930Z"
   },
   {
    "duration": 9,
    "start_time": "2024-10-18T01:51:45.942Z"
   },
   {
    "duration": 27,
    "start_time": "2024-10-18T01:51:45.953Z"
   },
   {
    "duration": 7,
    "start_time": "2024-10-18T01:51:45.981Z"
   },
   {
    "duration": 45,
    "start_time": "2024-10-18T01:51:45.989Z"
   },
   {
    "duration": 4,
    "start_time": "2024-10-18T01:51:46.035Z"
   },
   {
    "duration": 4,
    "start_time": "2024-10-18T01:51:46.041Z"
   },
   {
    "duration": 8,
    "start_time": "2024-10-18T01:51:46.048Z"
   },
   {
    "duration": 4,
    "start_time": "2024-10-18T01:51:46.057Z"
   },
   {
    "duration": 4,
    "start_time": "2024-10-18T01:51:46.063Z"
   },
   {
    "duration": 4,
    "start_time": "2024-10-18T01:51:46.069Z"
   },
   {
    "duration": 4,
    "start_time": "2024-10-18T01:51:46.074Z"
   },
   {
    "duration": 46,
    "start_time": "2024-10-18T01:51:46.079Z"
   },
   {
    "duration": 3,
    "start_time": "2024-10-18T01:51:46.126Z"
   },
   {
    "duration": 3,
    "start_time": "2024-10-18T01:51:46.131Z"
   },
   {
    "duration": 22,
    "start_time": "2024-10-18T01:51:46.136Z"
   },
   {
    "duration": 66,
    "start_time": "2024-10-18T01:51:46.160Z"
   },
   {
    "duration": 11,
    "start_time": "2024-10-18T01:51:46.228Z"
   },
   {
    "duration": 7,
    "start_time": "2024-10-18T01:51:46.241Z"
   },
   {
    "duration": 7,
    "start_time": "2024-10-18T01:51:46.250Z"
   },
   {
    "duration": 8,
    "start_time": "2024-10-18T01:51:46.325Z"
   },
   {
    "duration": 90,
    "start_time": "2024-10-18T01:51:46.334Z"
   },
   {
    "duration": 7,
    "start_time": "2024-10-18T01:51:46.425Z"
   },
   {
    "duration": 7,
    "start_time": "2024-10-18T01:51:46.434Z"
   },
   {
    "duration": 7,
    "start_time": "2024-10-18T01:51:46.442Z"
   },
   {
    "duration": 2331,
    "start_time": "2024-10-18T01:51:46.456Z"
   },
   {
    "duration": 6,
    "start_time": "2024-10-18T01:51:48.789Z"
   },
   {
    "duration": 4,
    "start_time": "2024-10-18T01:51:48.797Z"
   },
   {
    "duration": 51,
    "start_time": "2024-10-18T01:51:48.803Z"
   },
   {
    "duration": 227,
    "start_time": "2024-10-18T01:51:48.923Z"
   },
   {
    "duration": 14,
    "start_time": "2024-10-18T01:51:49.153Z"
   },
   {
    "duration": 6,
    "start_time": "2024-10-18T01:51:49.168Z"
   },
   {
    "duration": 191,
    "start_time": "2024-10-18T01:51:49.175Z"
   },
   {
    "duration": 240,
    "start_time": "2024-10-18T01:51:49.368Z"
   },
   {
    "duration": 18,
    "start_time": "2024-10-18T01:51:49.610Z"
   },
   {
    "duration": 9,
    "start_time": "2024-10-18T22:57:09.315Z"
   },
   {
    "duration": 2676,
    "start_time": "2024-10-18T23:15:12.913Z"
   },
   {
    "duration": 36,
    "start_time": "2024-10-18T23:15:15.591Z"
   },
   {
    "duration": 13,
    "start_time": "2024-10-18T23:15:17.735Z"
   },
   {
    "duration": 10,
    "start_time": "2024-10-18T23:15:20.270Z"
   },
   {
    "duration": 28,
    "start_time": "2024-10-18T23:15:23.120Z"
   },
   {
    "duration": 7,
    "start_time": "2024-10-18T23:15:26.874Z"
   },
   {
    "duration": 621,
    "start_time": "2024-10-18T23:15:32.575Z"
   },
   {
    "duration": 5,
    "start_time": "2024-10-18T23:15:53.100Z"
   },
   {
    "duration": 5,
    "start_time": "2024-10-18T23:16:09.697Z"
   },
   {
    "duration": 5,
    "start_time": "2024-10-18T23:16:46.050Z"
   },
   {
    "duration": 4,
    "start_time": "2024-10-18T23:17:06.416Z"
   },
   {
    "duration": 22,
    "start_time": "2024-10-18T23:19:30.669Z"
   },
   {
    "duration": 4,
    "start_time": "2024-10-18T23:19:31.392Z"
   },
   {
    "duration": 4,
    "start_time": "2024-10-18T23:19:33.761Z"
   },
   {
    "duration": 8,
    "start_time": "2024-10-18T23:19:34.107Z"
   },
   {
    "duration": 5,
    "start_time": "2024-10-18T23:19:34.265Z"
   },
   {
    "duration": 4,
    "start_time": "2024-10-18T23:19:34.596Z"
   },
   {
    "duration": 5,
    "start_time": "2024-10-18T23:19:34.907Z"
   },
   {
    "duration": 4,
    "start_time": "2024-10-18T23:19:35.279Z"
   },
   {
    "duration": 5,
    "start_time": "2024-10-18T23:19:35.464Z"
   },
   {
    "duration": 4,
    "start_time": "2024-10-18T23:19:35.647Z"
   },
   {
    "duration": 3,
    "start_time": "2024-10-18T23:19:35.809Z"
   },
   {
    "duration": 18,
    "start_time": "2024-10-18T23:19:36.151Z"
   },
   {
    "duration": 25,
    "start_time": "2024-10-18T23:19:36.497Z"
   },
   {
    "duration": 9,
    "start_time": "2024-10-18T23:19:36.817Z"
   },
   {
    "duration": 5,
    "start_time": "2024-10-18T23:19:37.174Z"
   },
   {
    "duration": 5,
    "start_time": "2024-10-18T23:19:37.506Z"
   },
   {
    "duration": 6,
    "start_time": "2024-10-18T23:19:38.058Z"
   },
   {
    "duration": 19,
    "start_time": "2024-10-18T23:19:39.103Z"
   },
   {
    "duration": 6,
    "start_time": "2024-10-18T23:19:39.665Z"
   },
   {
    "duration": 5,
    "start_time": "2024-10-18T23:19:39.984Z"
   },
   {
    "duration": 6,
    "start_time": "2024-10-18T23:19:40.550Z"
   },
   {
    "duration": 2344,
    "start_time": "2024-10-18T23:19:40.932Z"
   },
   {
    "duration": 12,
    "start_time": "2024-10-18T23:19:43.279Z"
   },
   {
    "duration": 6,
    "start_time": "2024-10-18T23:19:43.333Z"
   },
   {
    "duration": 94,
    "start_time": "2024-10-18T23:19:43.342Z"
   },
   {
    "duration": 245,
    "start_time": "2024-10-18T23:19:43.439Z"
   },
   {
    "duration": 14,
    "start_time": "2024-10-18T23:19:59.776Z"
   },
   {
    "duration": 3,
    "start_time": "2024-10-18T23:20:00.796Z"
   },
   {
    "duration": 140,
    "start_time": "2024-10-18T23:20:01.063Z"
   },
   {
    "duration": 203,
    "start_time": "2024-10-18T23:20:01.906Z"
   },
   {
    "duration": 6,
    "start_time": "2024-10-18T23:20:03.158Z"
   },
   {
    "duration": 5,
    "start_time": "2024-10-18T23:21:44.359Z"
   },
   {
    "duration": 4,
    "start_time": "2024-10-18T23:22:25.432Z"
   },
   {
    "duration": 3,
    "start_time": "2024-10-18T23:23:27.474Z"
   },
   {
    "duration": 3,
    "start_time": "2024-10-18T23:23:28.433Z"
   },
   {
    "duration": 4,
    "start_time": "2024-10-18T23:23:28.981Z"
   },
   {
    "duration": 5,
    "start_time": "2024-10-18T23:24:03.206Z"
   },
   {
    "duration": 5,
    "start_time": "2024-10-18T23:24:07.218Z"
   },
   {
    "duration": 3,
    "start_time": "2024-10-18T23:24:57.924Z"
   },
   {
    "duration": 3,
    "start_time": "2024-10-18T23:25:23.844Z"
   },
   {
    "duration": 5,
    "start_time": "2024-10-18T23:25:41.789Z"
   },
   {
    "duration": 4,
    "start_time": "2024-10-18T23:25:52.941Z"
   },
   {
    "duration": 4,
    "start_time": "2024-10-18T23:25:55.873Z"
   },
   {
    "duration": 3,
    "start_time": "2024-10-18T23:25:58.940Z"
   },
   {
    "duration": 3,
    "start_time": "2024-10-18T23:26:27.539Z"
   },
   {
    "duration": 4,
    "start_time": "2024-10-18T23:26:32.850Z"
   },
   {
    "duration": 3,
    "start_time": "2024-10-18T23:27:05.731Z"
   },
   {
    "duration": 4,
    "start_time": "2024-10-18T23:27:07.010Z"
   },
   {
    "duration": 4,
    "start_time": "2024-10-18T23:27:07.456Z"
   },
   {
    "duration": 6,
    "start_time": "2024-10-18T23:27:07.664Z"
   },
   {
    "duration": 6,
    "start_time": "2024-10-18T23:27:07.985Z"
   },
   {
    "duration": 4,
    "start_time": "2024-10-18T23:27:08.321Z"
   },
   {
    "duration": 3,
    "start_time": "2024-10-18T23:27:08.912Z"
   },
   {
    "duration": 3,
    "start_time": "2024-10-18T23:27:09.224Z"
   }
  ],
  "kernelspec": {
   "display_name": "Python 3",
   "language": "python",
   "name": "python3"
  },
  "language_info": {
   "codemirror_mode": {
    "name": "ipython",
    "version": 3
   },
   "file_extension": ".py",
   "mimetype": "text/x-python",
   "name": "python",
   "nbconvert_exporter": "python",
   "pygments_lexer": "ipython3",
   "version": "3.12.7"
  },
  "toc": {
   "base_numbering": 1,
   "nav_menu": {},
   "number_sections": true,
   "sideBar": true,
   "skip_h1_title": true,
   "title_cell": "Table of Contents",
   "title_sidebar": "Contents",
   "toc_cell": false,
   "toc_position": {},
   "toc_section_display": true,
   "toc_window_display": false
  }
 },
 "nbformat": 4,
 "nbformat_minor": 2
}
